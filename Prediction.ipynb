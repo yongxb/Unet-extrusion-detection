{
 "cells": [
  {
   "cell_type": "code",
   "execution_count": 1,
   "id": "personal-edmonton",
   "metadata": {},
   "outputs": [],
   "source": [
    "import glob\n",
    "import skimage.io\n",
    "import os\n",
    "import numpy as np\n",
    "import tifffile\n",
    "\n",
    "import warnings\n",
    "warnings.simplefilter(action='ignore', category=FutureWarning)\n",
    "\n",
    "import matplotlib.pyplot as plt\n",
    "\n",
    "# import user classes\n",
    "from model.AttentionUnetResnet import AttentionUnetResnet50\n",
    "\n",
    "%load_ext autoreload\n",
    "%autoreload 2"
   ]
  },
  {
   "cell_type": "code",
   "execution_count": null,
   "id": "altered-elder",
   "metadata": {},
   "outputs": [],
   "source": [
    "folder_list = glob.glob(r'prediction/**')\n",
    "\n",
    "for folder in folder_list[:]:\n",
    "    image_list =  glob.glob(os.path.join(folder, r\"**/*_resliced.tif\")) \n",
    "    for image_path in image_list[:]:\n",
    "        mm = tifffile.memmap(image_path)\n",
    "        image = np.array(mm[100,...])\n",
    "\n",
    "        model_dir = r'networks/Attention_Unet_Resnet50-20220425T0252'\n",
    "\n",
    "        model = AttentionUnetResnet50(model_dir = model_dir,\n",
    "                                        visible_gpu = 0,\n",
    "                                        use_cpu = False,\n",
    "                                        config_filepath=None,\n",
    "                                        for_prediction=True,\n",
    "                                        patch_size = list(image.shape),\n",
    "                                        pad_image=True,\n",
    "                                        use_tiling = False,\n",
    "                                        overlap_size = [64,64],\n",
    "                                        untiling_method = \"max_blend\")\n",
    "\n",
    "        model.create_prediction_model(os.path.join(model_dir,'model-200000.index'))\n",
    "        output_folder = os.path.split(image_path)[0]\n",
    "        test = model.predict_batch_from_directory(output_folder, image_ext='*_resliced.tif', suffix='-preds-200000')"
   ]
  },
  {
   "cell_type": "code",
   "execution_count": null,
   "id": "funky-pottery",
   "metadata": {},
   "outputs": [],
   "source": []
  }
 ],
 "metadata": {
  "kernelspec": {
   "display_name": "Python 3",
   "language": "python",
   "name": "python3"
  },
  "language_info": {
   "codemirror_mode": {
    "name": "ipython",
    "version": 3
   },
   "file_extension": ".py",
   "mimetype": "text/x-python",
   "name": "python",
   "nbconvert_exporter": "python",
   "pygments_lexer": "ipython3",
   "version": "3.8.5"
  }
 },
 "nbformat": 4,
 "nbformat_minor": 5
}
